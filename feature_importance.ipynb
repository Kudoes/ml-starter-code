{
 "cells": [
  {
   "cell_type": "markdown",
   "id": "00a1a60a-9c3a-4860-aafd-f7432a005191",
   "metadata": {},
   "source": [
    "# Feature Importance"
   ]
  },
  {
   "cell_type": "markdown",
   "id": "959e4206-1346-481f-a921-587eaeb7a38f",
   "metadata": {},
   "source": [
    "This notebook contains some boilerplate code for getting an early/simple estimation of feature importances for your variables.\n",
    "\n",
    "Out of the various approaches, we will explore the code for two of them:\n",
    "1. **Linear Regression**: Feature importance is determined by the absolute magnitude of the coefficients.\n",
    "2. **Random Forest**: Feature importance is determined by the internal random forest feature_importance functionality. They are computed as the mean and standard deviation of accumulation of the impurity decrease within each tree. There are other ways to get featuree importance using Random Forests, such as permutation-based feature importance, but we will focus on the most simple usecase below.\n",
    "\n",
    "There are other approaches, such as SHAP, which may be added at a later date."
   ]
  },
  {
   "cell_type": "code",
   "execution_count": 124,
   "id": "2d16ecc5-623c-425f-9dfa-0f71f26e365a",
   "metadata": {},
   "outputs": [],
   "source": [
    "from datetime import datetime\n",
    "import pandas as pd\n",
    "import numpy as np\n",
    "import shap\n",
    "\n",
    "from sklearn.model_selection import train_test_split\n",
    "from sklearn.inspection import permutation_importance\n",
    "from matplotlib import pyplot as plt\n",
    "import seaborn as sns\n",
    "import plotly.express as px\n",
    "\n",
    "from sklearn.model_selection import GridSearchCV\n",
    "from sklearn.ensemble import GradientBoostingRegressor\n",
    "\n",
    "from sklearn.decomposition import PCA, TruncatedSVD"
   ]
  },
  {
   "cell_type": "markdown",
   "id": "ed7ebe81-e70a-4ec0-bbd4-c69b8ec835e8",
   "metadata": {
    "tags": []
   },
   "source": [
    "## Generate Dummy Dataset for Regression\n",
    "\n",
    "Below, we will generate a simple dummy dataset for regression, and split it into training and test data."
   ]
  },
  {
   "cell_type": "code",
   "execution_count": 125,
   "id": "4a109d9e-0c7e-482e-aaa1-e1bac05d9acb",
   "metadata": {},
   "outputs": [
    {
     "data": {
      "text/html": [
       "<div>\n",
       "<style scoped>\n",
       "    .dataframe tbody tr th:only-of-type {\n",
       "        vertical-align: middle;\n",
       "    }\n",
       "\n",
       "    .dataframe tbody tr th {\n",
       "        vertical-align: top;\n",
       "    }\n",
       "\n",
       "    .dataframe thead th {\n",
       "        text-align: right;\n",
       "    }\n",
       "</style>\n",
       "<table border=\"1\" class=\"dataframe\">\n",
       "  <thead>\n",
       "    <tr style=\"text-align: right;\">\n",
       "      <th></th>\n",
       "      <th>x_0</th>\n",
       "      <th>x_1</th>\n",
       "      <th>x_2</th>\n",
       "      <th>x_3</th>\n",
       "      <th>x_4</th>\n",
       "      <th>x_5</th>\n",
       "      <th>x_6</th>\n",
       "      <th>x_7</th>\n",
       "      <th>x_8</th>\n",
       "      <th>x_9</th>\n",
       "      <th>x_10</th>\n",
       "      <th>x_11</th>\n",
       "      <th>x_12</th>\n",
       "      <th>x_13</th>\n",
       "      <th>x_14</th>\n",
       "      <th>y</th>\n",
       "    </tr>\n",
       "  </thead>\n",
       "  <tbody>\n",
       "    <tr>\n",
       "      <th>0</th>\n",
       "      <td>2.030919</td>\n",
       "      <td>0.549981</td>\n",
       "      <td>0.078371</td>\n",
       "      <td>-1.315037</td>\n",
       "      <td>-0.380408</td>\n",
       "      <td>0.628357</td>\n",
       "      <td>-1.172599</td>\n",
       "      <td>1.358490</td>\n",
       "      <td>0.310906</td>\n",
       "      <td>0.390199</td>\n",
       "      <td>-0.108681</td>\n",
       "      <td>0.053901</td>\n",
       "      <td>-2.133626</td>\n",
       "      <td>-0.189109</td>\n",
       "      <td>-3.076831</td>\n",
       "      <td>-152.924502</td>\n",
       "    </tr>\n",
       "    <tr>\n",
       "      <th>1</th>\n",
       "      <td>-1.187668</td>\n",
       "      <td>-0.213834</td>\n",
       "      <td>2.481378</td>\n",
       "      <td>1.123245</td>\n",
       "      <td>-0.693357</td>\n",
       "      <td>2.158473</td>\n",
       "      <td>0.307853</td>\n",
       "      <td>0.575358</td>\n",
       "      <td>-0.343087</td>\n",
       "      <td>0.515707</td>\n",
       "      <td>2.324003</td>\n",
       "      <td>-0.538950</td>\n",
       "      <td>-1.099098</td>\n",
       "      <td>1.625368</td>\n",
       "      <td>0.053685</td>\n",
       "      <td>515.893359</td>\n",
       "    </tr>\n",
       "    <tr>\n",
       "      <th>2</th>\n",
       "      <td>0.578677</td>\n",
       "      <td>-1.415827</td>\n",
       "      <td>0.721109</td>\n",
       "      <td>-0.501564</td>\n",
       "      <td>0.682680</td>\n",
       "      <td>0.229033</td>\n",
       "      <td>-1.282215</td>\n",
       "      <td>-0.663899</td>\n",
       "      <td>-0.253081</td>\n",
       "      <td>0.560307</td>\n",
       "      <td>-0.140561</td>\n",
       "      <td>0.312359</td>\n",
       "      <td>0.618874</td>\n",
       "      <td>-1.102907</td>\n",
       "      <td>1.420845</td>\n",
       "      <td>-21.803648</td>\n",
       "    </tr>\n",
       "  </tbody>\n",
       "</table>\n",
       "</div>"
      ],
      "text/plain": [
       "        x_0       x_1       x_2       x_3       x_4       x_5       x_6  \\\n",
       "0  2.030919  0.549981  0.078371 -1.315037 -0.380408  0.628357 -1.172599   \n",
       "1 -1.187668 -0.213834  2.481378  1.123245 -0.693357  2.158473  0.307853   \n",
       "2  0.578677 -1.415827  0.721109 -0.501564  0.682680  0.229033 -1.282215   \n",
       "\n",
       "        x_7       x_8       x_9      x_10      x_11      x_12      x_13  \\\n",
       "0  1.358490  0.310906  0.390199 -0.108681  0.053901 -2.133626 -0.189109   \n",
       "1  0.575358 -0.343087  0.515707  2.324003 -0.538950 -1.099098  1.625368   \n",
       "2 -0.663899 -0.253081  0.560307 -0.140561  0.312359  0.618874 -1.102907   \n",
       "\n",
       "       x_14           y  \n",
       "0 -3.076831 -152.924502  \n",
       "1  0.053685  515.893359  \n",
       "2  1.420845  -21.803648  "
      ]
     },
     "execution_count": 125,
     "metadata": {},
     "output_type": "execute_result"
    }
   ],
   "source": [
    "from sklearn.datasets import make_regression\n",
    "\n",
    "# Generate test dataset and format for easy viewing\n",
    "X, y = make_regression(n_samples = 1000, n_features = 15, n_informative = 10, noise = 50)\n",
    "dataset = pd.DataFrame(X).add_prefix('x_')\n",
    "dataset['y'] = y\n",
    "dataset.head(3)"
   ]
  },
  {
   "cell_type": "markdown",
   "id": "38f92a8a-3be2-41d9-a571-c18a6dc48d73",
   "metadata": {},
   "source": [
    "### Generate Training Data\n",
    "\n",
    "Below, we create a very simple pipeline and train the linear model on the sample training data. We will then generate the feature importances using the **training data** only.\n",
    "\n",
    "Note that in a real workflow, you will likely have to ensure that the dataset conforms to the Linear Regression model requirements. This involves generating dummy variables for categorical data, scaling the data, imputing, etc. Only some of those steps are included below."
   ]
  },
  {
   "cell_type": "code",
   "execution_count": 126,
   "id": "44a29cfb-716a-4b96-beb4-a87d48e180d8",
   "metadata": {},
   "outputs": [
    {
     "name": "stdout",
     "output_type": "stream",
     "text": [
      "Training Data Size:  (800, 15)\n",
      "Test Data Size:  (200, 15)\n"
     ]
    }
   ],
   "source": [
    "# Create training, test splits using 80-20\n",
    "X = dataset.drop(['y'], axis='columns')\n",
    "y = dataset['y']\n",
    "\n",
    "# Split the data\n",
    "X_train, X_test, y_train, y_test = train_test_split(\n",
    "    X, y, test_size=0.2, random_state=1\n",
    ")\n",
    "\n",
    "print('Training Data Size: ', X_train.shape)\n",
    "print('Test Data Size: ', X_test.shape)"
   ]
  },
  {
   "cell_type": "markdown",
   "id": "6ec5d051-07f9-4f64-bb58-0d872763e0c5",
   "metadata": {},
   "source": [
    "## Feature Importance using Linear Regression"
   ]
  },
  {
   "cell_type": "markdown",
   "id": "93a317db-c06f-4422-97fa-3e7a155cb96c",
   "metadata": {},
   "source": [
    "### Train the Linear Model and Obtain Coefficients\n",
    "\n",
    "Now that we have the data prepared, we can run a pipeline to obtain feature weights."
   ]
  },
  {
   "cell_type": "code",
   "execution_count": 127,
   "id": "8069543d-5da5-48f5-92da-93c1d1b39416",
   "metadata": {},
   "outputs": [
    {
     "data": {
      "text/html": [
       "<div>\n",
       "<style scoped>\n",
       "    .dataframe tbody tr th:only-of-type {\n",
       "        vertical-align: middle;\n",
       "    }\n",
       "\n",
       "    .dataframe tbody tr th {\n",
       "        vertical-align: top;\n",
       "    }\n",
       "\n",
       "    .dataframe thead th {\n",
       "        text-align: right;\n",
       "    }\n",
       "</style>\n",
       "<table border=\"1\" class=\"dataframe\">\n",
       "  <thead>\n",
       "    <tr style=\"text-align: right;\">\n",
       "      <th></th>\n",
       "      <th>feature</th>\n",
       "      <th>importance</th>\n",
       "      <th>abs_importance</th>\n",
       "      <th>importance_rank</th>\n",
       "    </tr>\n",
       "  </thead>\n",
       "  <tbody>\n",
       "    <tr>\n",
       "      <th>10</th>\n",
       "      <td>x_10</td>\n",
       "      <td>87.948553</td>\n",
       "      <td>87.948553</td>\n",
       "      <td>1</td>\n",
       "    </tr>\n",
       "    <tr>\n",
       "      <th>9</th>\n",
       "      <td>x_9</td>\n",
       "      <td>73.449332</td>\n",
       "      <td>73.449332</td>\n",
       "      <td>2</td>\n",
       "    </tr>\n",
       "    <tr>\n",
       "      <th>2</th>\n",
       "      <td>x_2</td>\n",
       "      <td>72.813465</td>\n",
       "      <td>72.813465</td>\n",
       "      <td>3</td>\n",
       "    </tr>\n",
       "    <tr>\n",
       "      <th>8</th>\n",
       "      <td>x_8</td>\n",
       "      <td>68.551785</td>\n",
       "      <td>68.551785</td>\n",
       "      <td>4</td>\n",
       "    </tr>\n",
       "    <tr>\n",
       "      <th>6</th>\n",
       "      <td>x_6</td>\n",
       "      <td>61.779517</td>\n",
       "      <td>61.779517</td>\n",
       "      <td>5</td>\n",
       "    </tr>\n",
       "  </tbody>\n",
       "</table>\n",
       "</div>"
      ],
      "text/plain": [
       "   feature  importance  abs_importance  importance_rank\n",
       "10    x_10   87.948553       87.948553                1\n",
       "9      x_9   73.449332       73.449332                2\n",
       "2      x_2   72.813465       72.813465                3\n",
       "8      x_8   68.551785       68.551785                4\n",
       "6      x_6   61.779517       61.779517                5"
      ]
     },
     "execution_count": 127,
     "metadata": {},
     "output_type": "execute_result"
    }
   ],
   "source": [
    "from sklearn.pipeline import make_pipeline\n",
    "from sklearn.pipeline import Pipeline\n",
    "from sklearn.impute import SimpleImputer\n",
    "from sklearn.preprocessing import StandardScaler\n",
    "from sklearn.linear_model import LinearRegression\n",
    "\n",
    "# Create the pipeline\n",
    "pipeline = make_pipeline(SimpleImputer(missing_values=np.nan, strategy='mean'), # Impute missing values based on the mean\n",
    "                          StandardScaler(with_mean=False), # Standardize the columns to have mean 0 and unit variance\n",
    "                          LinearRegression()) # Train the linear regression model on the data\n",
    "\n",
    "# Fit the processed data to the training set\n",
    "pipeline.fit(X_train, y_train)\n",
    "\n",
    "# Create a dataframe of results\n",
    "'''\n",
    "feature: Feature Name\n",
    "importance: importance metric generated by coefficients/random forest importance\n",
    "absolute_importance: absolute value of importance (since linear regression coefficients can be negative)\n",
    "importance_rank: rank of the importance value\n",
    "'''\n",
    "feature_coefficients = zip(pipeline['simpleimputer'].get_feature_names_out(),\n",
    "                           pipeline['linearregression'].coef_)\n",
    "df_feature_coef = pd.DataFrame(feature_coefficients, columns = [\"feature\", \"importance\"])\n",
    "df_feature_coef['abs_importance'] = df_feature_coef['importance'].apply(lambda x: abs(x))\n",
    "df_feature_coef['importance_rank'] = df_feature_coef['abs_importance'].rank(ascending=False).astype('int')\n",
    "df_feature_coef = df_feature_coef.sort_values('importance_rank', ascending=True)\n",
    "df_feature_coef.head(5)"
   ]
  },
  {
   "cell_type": "markdown",
   "id": "df2650d0-5332-4da9-b8a0-4f08d576e912",
   "metadata": {},
   "source": [
    "### Visualize Data"
   ]
  },
  {
   "cell_type": "markdown",
   "id": "78a5f5c5-ea43-4be7-a4e9-ba9d13948724",
   "metadata": {},
   "source": [
    "Below, we will graph the **top 10** out of 15 total variables in terms of feature importance. Note that in regression, the coefficients can be negative or positive, so we will rank them by **absolute** value."
   ]
  },
  {
   "cell_type": "code",
   "execution_count": 128,
   "id": "7b115dc2-6728-4b14-aa6d-619aeb726f69",
   "metadata": {},
   "outputs": [
    {
     "data": {
      "image/png": "[encoded data removed]",
      "text/plain": [
       "<Figure size 640x480 with 1 Axes>"
      ]
     },
     "metadata": {},
     "output_type": "display_data"
    }
   ],
   "source": [
    "sns.barplot(x=\"abs_importance\",\n",
    "            y=\"feature\",\n",
    "            data=df_feature_coef.head(10))\n",
    "plt.title(\"Top 10 Features\", fontsize=15)\n",
    "plt.ylabel(\"Feature Names\")\n",
    "plt.xlabel(\"Importance\")\n",
    "plt.show()"
   ]
  },
  {
   "cell_type": "markdown",
   "id": "1e35b188-919e-4d50-b5b5-912d7e6907cd",
   "metadata": {},
   "source": [
    "## Feature Importance using Random Forest Regressor"
   ]
  },
  {
   "cell_type": "code",
   "execution_count": 129,
   "id": "83d3073c-e4ae-4c17-ac11-94632ef05d15",
   "metadata": {},
   "outputs": [
    {
     "data": {
      "image/png": "[encoded data removed]",
      "text/plain": [
       "<Figure size 640x480 with 1 Axes>"
      ]
     },
     "metadata": {},
     "output_type": "display_data"
    }
   ],
   "source": [
    "# linear regression feature importance\n",
    "from sklearn.ensemble import RandomForestRegressor\n",
    "from matplotlib import pyplot\n",
    "import seaborn as sns\n",
    "\n",
    "# Make a pipeline, but ensure we have a linear regression defined first\n",
    "pipeline = make_pipeline(SimpleImputer(missing_values=np.nan, strategy='mean'),\n",
    "                         RandomForestRegressor())\n",
    "\n",
    "# Fit the model\n",
    "pipeline.fit(X_train, y_train)\n",
    "\n",
    "# Create a dataframe of results\n",
    "'''\n",
    "feature: Feature Name\n",
    "importance: importance metric generated by coefficients/random forest importance\n",
    "absolute_importance: absolute value of importance (since linear regression coefficients can be negative)\n",
    "importance_rank: rank of the importance value\n",
    "'''\n",
    "feature_coefficients = zip(pipeline['simpleimputer'].get_feature_names_out(),\n",
    "                           pipeline['randomforestregressor'].feature_importances_)\n",
    "df_feature_coef = pd.DataFrame(feature_coefficients, columns = [\"feature\", \"importance\"])\n",
    "df_feature_coef['abs_importance'] = df_feature_coef['importance'].apply(lambda x: abs(x))\n",
    "df_feature_coef['importance_rank'] = df_feature_coef['abs_importance'].rank(ascending=False).astype('int')\n",
    "df_feature_coef = df_feature_coef.sort_values('importance_rank', ascending=True)\n",
    "df_feature_coef.head(5)\n",
    "\n",
    "# Visualize the results\n",
    "sns.barplot(x=\"abs_importance\",\n",
    "            y=\"feature\",\n",
    "            data=df_feature_coef.head(10))\n",
    "plt.title(\"Top 10 Features\", fontsize=15)\n",
    "plt.ylabel(\"Feature Names\")\n",
    "plt.xlabel(\"Importance\")\n",
    "plt.show()"
   ]
  },
  {
   "cell_type": "code",
   "execution_count": null,
   "id": "b808b1cd-625b-45ba-92c4-a7d6aa4accaf",
   "metadata": {},
   "outputs": [],
   "source": []
  }
 ],
 "metadata": {
  "kernelspec": {
   "display_name": "Python 3",
   "language": "python",
   "name": "python3"
  },
  "language_info": {
   "codemirror_mode": {
    "name": "ipython",
    "version": 3
   },
   "file_extension": ".py",
   "mimetype": "text/x-python",
   "name": "python",
   "nbconvert_exporter": "python",
   "pygments_lexer": "ipython3",
   "version": "3.8.10"
  }
 },
 "nbformat": 4,
 "nbformat_minor": 5
}
