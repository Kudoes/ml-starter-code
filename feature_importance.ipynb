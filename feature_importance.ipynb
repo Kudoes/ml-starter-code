{
 "cells": [
  {
   "cell_type": "markdown",
   "id": "00a1a60a-9c3a-4860-aafd-f7432a005191",
   "metadata": {},
   "source": [
    "# Feature Importance"
   ]
  },
  {
   "cell_type": "markdown",
   "id": "959e4206-1346-481f-a921-587eaeb7a38f",
   "metadata": {},
   "source": [
    "This notebook contains some boilerplate code for getting an early/simple estimation of feature importances for your variables.\n",
    "\n",
    "Out of the various approaches, we will explore the code for two of them:\n",
    "1. **Linear Regression**: Feature importance is determined by the absolute magnitude of the coefficients.\n",
    "2. **Random Forest**: Feature importance is determined by the internal random forest feature_importance functionality. They are computed as the mean and standard deviation of accumulation of the impurity decrease within each tree. There are other ways to get featuree importance using Random Forests, such as permutation-based feature importance, but we will focus on the most simple usecase below.\n",
    "\n",
    "There are other approaches, such as SHAP, which may be added at a later date."
   ]
  },
  {
   "cell_type": "code",
   "execution_count": 1,
   "id": "2d16ecc5-623c-425f-9dfa-0f71f26e365a",
   "metadata": {},
   "outputs": [],
   "source": [
    "from datetime import datetime\n",
    "import pandas as pd\n",
    "import numpy as np\n",
    "import shap\n",
    "\n",
    "from sklearn.model_selection import train_test_split\n",
    "from sklearn.inspection import permutation_importance\n",
    "from matplotlib import pyplot as plt\n",
    "import seaborn as sns\n",
    "import plotly.express as px\n",
    "\n",
    "from sklearn.model_selection import GridSearchCV\n",
    "from sklearn.ensemble import GradientBoostingRegressor\n",
    "\n",
    "from sklearn.decomposition import PCA, TruncatedSVD"
   ]
  },
  {
   "cell_type": "markdown",
   "id": "ed7ebe81-e70a-4ec0-bbd4-c69b8ec835e8",
   "metadata": {},
   "source": [
    "## Generate Dummy Dataset for Regression\n",
    "\n",
    "Below, we will generate a simple dummy dataset for regression, and split it into training and test data."
   ]
  },
  {
   "cell_type": "code",
   "execution_count": 2,
   "id": "4a109d9e-0c7e-482e-aaa1-e1bac05d9acb",
   "metadata": {},
   "outputs": [
    {
     "data": {
      "text/html": [
       "<div>\n",
       "<style scoped>\n",
       "    .dataframe tbody tr th:only-of-type {\n",
       "        vertical-align: middle;\n",
       "    }\n",
       "\n",
       "    .dataframe tbody tr th {\n",
       "        vertical-align: top;\n",
       "    }\n",
       "\n",
       "    .dataframe thead th {\n",
       "        text-align: right;\n",
       "    }\n",
       "</style>\n",
       "<table border=\"1\" class=\"dataframe\">\n",
       "  <thead>\n",
       "    <tr style=\"text-align: right;\">\n",
       "      <th></th>\n",
       "      <th>x_0</th>\n",
       "      <th>x_1</th>\n",
       "      <th>x_2</th>\n",
       "      <th>x_3</th>\n",
       "      <th>x_4</th>\n",
       "      <th>x_5</th>\n",
       "      <th>x_6</th>\n",
       "      <th>x_7</th>\n",
       "      <th>x_8</th>\n",
       "      <th>x_9</th>\n",
       "      <th>x_10</th>\n",
       "      <th>x_11</th>\n",
       "      <th>x_12</th>\n",
       "      <th>x_13</th>\n",
       "      <th>x_14</th>\n",
       "      <th>y</th>\n",
       "    </tr>\n",
       "  </thead>\n",
       "  <tbody>\n",
       "    <tr>\n",
       "      <th>0</th>\n",
       "      <td>-1.396284</td>\n",
       "      <td>-0.382245</td>\n",
       "      <td>-0.325595</td>\n",
       "      <td>-1.132121</td>\n",
       "      <td>0.151356</td>\n",
       "      <td>-0.393108</td>\n",
       "      <td>-0.056542</td>\n",
       "      <td>-0.107729</td>\n",
       "      <td>-0.379767</td>\n",
       "      <td>0.729292</td>\n",
       "      <td>-0.244577</td>\n",
       "      <td>1.235107</td>\n",
       "      <td>0.062222</td>\n",
       "      <td>2.656713</td>\n",
       "      <td>-0.273900</td>\n",
       "      <td>219.298985</td>\n",
       "    </tr>\n",
       "    <tr>\n",
       "      <th>1</th>\n",
       "      <td>-1.006584</td>\n",
       "      <td>-1.025412</td>\n",
       "      <td>0.411238</td>\n",
       "      <td>0.342069</td>\n",
       "      <td>1.103839</td>\n",
       "      <td>-1.261281</td>\n",
       "      <td>-1.293917</td>\n",
       "      <td>0.764055</td>\n",
       "      <td>-1.539112</td>\n",
       "      <td>1.003480</td>\n",
       "      <td>0.426418</td>\n",
       "      <td>1.980190</td>\n",
       "      <td>-0.644940</td>\n",
       "      <td>1.036798</td>\n",
       "      <td>-0.259717</td>\n",
       "      <td>68.288591</td>\n",
       "    </tr>\n",
       "    <tr>\n",
       "      <th>2</th>\n",
       "      <td>-0.252881</td>\n",
       "      <td>1.078492</td>\n",
       "      <td>-1.548315</td>\n",
       "      <td>-0.085724</td>\n",
       "      <td>-0.208293</td>\n",
       "      <td>0.186815</td>\n",
       "      <td>-1.691386</td>\n",
       "      <td>-1.189801</td>\n",
       "      <td>0.109740</td>\n",
       "      <td>-0.210557</td>\n",
       "      <td>-0.666738</td>\n",
       "      <td>0.014947</td>\n",
       "      <td>-0.490490</td>\n",
       "      <td>-1.261120</td>\n",
       "      <td>-0.197300</td>\n",
       "      <td>-116.693192</td>\n",
       "    </tr>\n",
       "  </tbody>\n",
       "</table>\n",
       "</div>"
      ],
      "text/plain": [
       "        x_0       x_1       x_2       x_3       x_4       x_5       x_6  \\\n",
       "0 -1.396284 -0.382245 -0.325595 -1.132121  0.151356 -0.393108 -0.056542   \n",
       "1 -1.006584 -1.025412  0.411238  0.342069  1.103839 -1.261281 -1.293917   \n",
       "2 -0.252881  1.078492 -1.548315 -0.085724 -0.208293  0.186815 -1.691386   \n",
       "\n",
       "        x_7       x_8       x_9      x_10      x_11      x_12      x_13  \\\n",
       "0 -0.107729 -0.379767  0.729292 -0.244577  1.235107  0.062222  2.656713   \n",
       "1  0.764055 -1.539112  1.003480  0.426418  1.980190 -0.644940  1.036798   \n",
       "2 -1.189801  0.109740 -0.210557 -0.666738  0.014947 -0.490490 -1.261120   \n",
       "\n",
       "       x_14           y  \n",
       "0 -0.273900  219.298985  \n",
       "1 -0.259717   68.288591  \n",
       "2 -0.197300 -116.693192  "
      ]
     },
     "execution_count": 2,
     "metadata": {},
     "output_type": "execute_result"
    }
   ],
   "source": [
    "from sklearn.datasets import make_regression\n",
    "\n",
    "# Generate test dataset and format for easy viewing\n",
    "X, y = make_regression(n_samples = 1000, n_features = 15, n_informative = 10, noise = 50)\n",
    "dataset = pd.DataFrame(X).add_prefix('x_')\n",
    "dataset['y'] = y\n",
    "dataset.head(3)"
   ]
  },
  {
   "cell_type": "markdown",
   "id": "38f92a8a-3be2-41d9-a571-c18a6dc48d73",
   "metadata": {},
   "source": [
    "### Generate Training Data\n",
    "\n",
    "Below, we create a very simple pipeline and train the linear model on the sample training data. We will then generate the feature importances using the **training data** only.\n",
    "\n",
    "Note that in a real workflow, you will likely have to ensure that the dataset conforms to the Linear Regression model requirements. This involves generating dummy variables for categorical data, scaling the data, imputing, etc. Only some of those steps are included below."
   ]
  },
  {
   "cell_type": "code",
   "execution_count": 3,
   "id": "44a29cfb-716a-4b96-beb4-a87d48e180d8",
   "metadata": {},
   "outputs": [
    {
     "name": "stdout",
     "output_type": "stream",
     "text": [
      "Training Data Size:  (800, 15)\n",
      "Test Data Size:  (200, 15)\n"
     ]
    }
   ],
   "source": [
    "# Create training, test splits using 80-20\n",
    "X = dataset.drop(['y'], axis='columns')\n",
    "y = dataset['y']\n",
    "\n",
    "# Split the data\n",
    "X_train, X_test, y_train, y_test = train_test_split(\n",
    "    X, y, test_size=0.2, random_state=1\n",
    ")\n",
    "\n",
    "print('Training Data Size: ', X_train.shape)\n",
    "print('Test Data Size: ', X_test.shape)"
   ]
  },
  {
   "cell_type": "markdown",
   "id": "6ec5d051-07f9-4f64-bb58-0d872763e0c5",
   "metadata": {},
   "source": [
    "## Feature Importance using Linear Regression"
   ]
  },
  {
   "cell_type": "markdown",
   "id": "93a317db-c06f-4422-97fa-3e7a155cb96c",
   "metadata": {},
   "source": [
    "### Train the Linear Model and Obtain Coefficients\n",
    "\n",
    "Now that we have the data prepared, we can run a pipeline to obtain feature weights."
   ]
  },
  {
   "cell_type": "code",
   "execution_count": 4,
   "id": "8069543d-5da5-48f5-92da-93c1d1b39416",
   "metadata": {},
   "outputs": [
    {
     "name": "stdout",
     "output_type": "stream",
     "text": [
      "Feature Names: \n",
      " ['x_0' 'x_1' 'x_2' 'x_3' 'x_4' 'x_5' 'x_6' 'x_7' 'x_8' 'x_9' 'x_10' 'x_11'\n",
      " 'x_12' 'x_13' 'x_14'] \n",
      "\n",
      "Coefficients: \n",
      " [ 2.06002577e+01 -9.46938259e-01  7.85669383e-02 -6.78564716e-01\n",
      "  8.14106300e+01  9.13020132e+01 -1.23019370e+00  3.31083249e+01\n",
      "  8.91321389e+01  3.42694371e+01  1.24964726e+00  7.38244438e+01\n",
      "  5.84884923e+01  7.46682455e+01  5.44039058e+00] \n",
      "\n"
     ]
    }
   ],
   "source": [
    "from sklearn.pipeline import make_pipeline\n",
    "from sklearn.pipeline import Pipeline\n",
    "from sklearn.impute import SimpleImputer\n",
    "from sklearn.preprocessing import StandardScaler\n",
    "from sklearn.linear_model import LinearRegression\n",
    "\n",
    "# Create the pipeline\n",
    "pipeline = make_pipeline(SimpleImputer(missing_values=np.nan, strategy='mean'), # Impute missing values based on the mean\n",
    "                          StandardScaler(with_mean=False), # Standardize the columns to have mean 0 and unit variance\n",
    "                          LinearRegression()) # Train the linear regression model on the data\n",
    "\n",
    "# Fit the processed data to the training set\n",
    "pipeline.fit(X_train, y_train)\n",
    "print(\"Feature Names: \\n\", pipeline['simpleimputer'].get_feature_names_out(), \"\\n\") # Extract the column names from the first step of the pipeline\n",
    "print(\"Coefficients: \\n\", pipeline['linearregression'].coef_, \"\\n\") # Extract the coefficient values from the fitted linear regression model"
   ]
  },
  {
   "cell_type": "markdown",
   "id": "574e1c8e-e4b8-43f2-9403-6246e8a11abc",
   "metadata": {},
   "source": [
    "### Compile Results and Visualize Data"
   ]
  },
  {
   "cell_type": "markdown",
   "id": "78a5f5c5-ea43-4be7-a4e9-ba9d13948724",
   "metadata": {},
   "source": [
    "Once we have the coefficients for each feature obtained from the standard linear regression, we can generate a dataframe of coefficients and also plot the results for an easy visualization of which features are the most important.\n",
    "\n",
    "Below, we will graph the **top 10** out of 15 total variables in terms of feature importance."
   ]
  },
  {
   "cell_type": "code",
   "execution_count": 5,
   "id": "f1f94de5-359c-4a6f-b385-18abcabd6d12",
   "metadata": {},
   "outputs": [
    {
     "data": {
      "text/html": [
       "<div>\n",
       "<style scoped>\n",
       "    .dataframe tbody tr th:only-of-type {\n",
       "        vertical-align: middle;\n",
       "    }\n",
       "\n",
       "    .dataframe tbody tr th {\n",
       "        vertical-align: top;\n",
       "    }\n",
       "\n",
       "    .dataframe thead th {\n",
       "        text-align: right;\n",
       "    }\n",
       "</style>\n",
       "<table border=\"1\" class=\"dataframe\">\n",
       "  <thead>\n",
       "    <tr style=\"text-align: right;\">\n",
       "      <th></th>\n",
       "      <th>feature</th>\n",
       "      <th>coeff</th>\n",
       "      <th>abs_coeff</th>\n",
       "      <th>colors</th>\n",
       "    </tr>\n",
       "  </thead>\n",
       "  <tbody>\n",
       "    <tr>\n",
       "      <th>5</th>\n",
       "      <td>x_5</td>\n",
       "      <td>91.302013</td>\n",
       "      <td>91.302013</td>\n",
       "      <td>green</td>\n",
       "    </tr>\n",
       "    <tr>\n",
       "      <th>8</th>\n",
       "      <td>x_8</td>\n",
       "      <td>89.132139</td>\n",
       "      <td>89.132139</td>\n",
       "      <td>green</td>\n",
       "    </tr>\n",
       "    <tr>\n",
       "      <th>4</th>\n",
       "      <td>x_4</td>\n",
       "      <td>81.410630</td>\n",
       "      <td>81.410630</td>\n",
       "      <td>green</td>\n",
       "    </tr>\n",
       "    <tr>\n",
       "      <th>13</th>\n",
       "      <td>x_13</td>\n",
       "      <td>74.668246</td>\n",
       "      <td>74.668246</td>\n",
       "      <td>green</td>\n",
       "    </tr>\n",
       "    <tr>\n",
       "      <th>11</th>\n",
       "      <td>x_11</td>\n",
       "      <td>73.824444</td>\n",
       "      <td>73.824444</td>\n",
       "      <td>green</td>\n",
       "    </tr>\n",
       "  </tbody>\n",
       "</table>\n",
       "</div>"
      ],
      "text/plain": [
       "   feature      coeff  abs_coeff colors\n",
       "5      x_5  91.302013  91.302013  green\n",
       "8      x_8  89.132139  89.132139  green\n",
       "4      x_4  81.410630  81.410630  green\n",
       "13    x_13  74.668246  74.668246  green\n",
       "11    x_11  73.824444  73.824444  green"
      ]
     },
     "execution_count": 5,
     "metadata": {},
     "output_type": "execute_result"
    }
   ],
   "source": [
    "import seaborn as sns\n",
    "\n",
    "# Create a dataframe of results\n",
    "feature_coefficients = zip(pipeline['simpleimputer'].get_feature_names_out(),\n",
    "                           pipeline['linearregression'].coef_)\n",
    "df_feature_coef = pd.DataFrame(feature_coefficients, columns = [\"feature\", \"coeff\"])\n",
    "df_feature_coef['abs_coeff'] = df_feature_coef['coeff'].apply(lambda x: abs(x))\n",
    "df_feature_coef[\"colors\"] = df_feature_coef[\"coeff\"].apply(lambda x: \"green\" if x > 0 else \"red\")\n",
    "df_feature_coef = df_feature_coef.sort_values(\"abs_coeff\", ascending=False)\n",
    "df_feature_coef.head(5)"
   ]
  },
  {
   "cell_type": "code",
   "execution_count": 6,
   "id": "5a8a3f3a-cb96-452f-b144-daf5edb63d9c",
   "metadata": {},
   "outputs": [
    {
     "data": {
      "image/png": "[encoded data removed]",
      "text/plain": [
       "<Figure size 800x500 with 1 Axes>"
      ]
     },
     "metadata": {},
     "output_type": "display_data"
    }
   ],
   "source": [
    "fig, ax = plt.subplots(1, 1, figsize=(8, 5))\n",
    "sns.barplot(x=\"feature\",\n",
    "            y=\"coeff\",\n",
    "            data=df_feature_coef.head(10), # Top 10 Features\n",
    "            palette=df_feature_coef.head(10)[\"colors\"]) # Top 10 Features\n",
    "ax.set_xticklabels(ax.get_xticklabels(), rotation=90, fontsize=20)\n",
    "ax.set_title(\"Top 10 Features\", fontsize=25)\n",
    "ax.set_ylabel(\"Coef\", fontsize=22)\n",
    "ax.set_xlabel(\"Feature Name\", fontsize=22)\n",
    "plt.show()"
   ]
  },
  {
   "cell_type": "markdown",
   "id": "1e35b188-919e-4d50-b5b5-912d7e6907cd",
   "metadata": {},
   "source": [
    "## Feature Importance using Random Forest Regressor"
   ]
  },
  {
   "cell_type": "code",
   "execution_count": 12,
   "id": "83d3073c-e4ae-4c17-ac11-94632ef05d15",
   "metadata": {},
   "outputs": [
    {
     "name": "stdout",
     "output_type": "stream",
     "text": [
      "['x_0' 'x_1' 'x_2' 'x_3' 'x_4' 'x_5' 'x_6' 'x_7' 'x_8' 'x_9' 'x_10' 'x_11'\n",
      " 'x_12' 'x_13' 'x_14']\n",
      "[0.01538105 0.01267623 0.0130259  0.01430091 0.15149973 0.22503769\n",
      " 0.01303404 0.02163726 0.17783243 0.02612737 0.0123389  0.12500458\n",
      " 0.08260444 0.09621851 0.01328096]\n"
     ]
    },
    {
     "data": {
      "image/png": "[encoded data removed]",
      "text/plain": [
       "<Figure size 1200x700 with 1 Axes>"
      ]
     },
     "metadata": {},
     "output_type": "display_data"
    }
   ],
   "source": [
    "# linear regression feature importance\n",
    "from sklearn.ensemble import RandomForestRegressor\n",
    "from matplotlib import pyplot\n",
    "import seaborn as sns\n",
    "\n",
    "# Make a pipeline, but ensure we have a linear regression defined first\n",
    "pipeline = make_pipeline(SimpleImputer(missing_values=np.nan, strategy='mean'),\n",
    "                         RandomForestRegressor())\n",
    "\n",
    "# Fit the model\n",
    "pipeline.fit(X_train, y_train)\n",
    "print(pipeline.named_steps['simpleimputer'].get_feature_names_out())\n",
    "print(pipeline.named_steps['randomforestregressor'].feature_importances_)\n",
    "\n",
    "# Create a dataframe of results\n",
    "feature_coefficients = zip(pipeline.named_steps['simpleimputer'].get_feature_names_out(),\n",
    "                           pipeline.named_steps['randomforestregressor'].feature_importances_)\n",
    "df_feature_coef = pd.DataFrame(feature_coefficients, columns = [\"feature\", \"coeff\"])\n",
    "df_feature_coef['abs_coeff'] = df_feature_coef['coeff'].apply(lambda x: abs(x))\n",
    "df_feature_coef[\"colors\"] = df_feature_coef[\"coeff\"].apply(lambda x: \"green\" if x > 0 else \"red\")\n",
    "df_feature_coef = df_feature_coef.sort_values(\"abs_coeff\", ascending=False)\n",
    "\n",
    "# Plot the results\n",
    "fig, ax = plt.subplots(1, 1, figsize=(12, 7))\n",
    "sns.barplot(x=\"feature\",\n",
    "            y=\"coeff\",\n",
    "            data=df_feature_coef.head(20),\n",
    "            palette=df_feature_coef.head(20)[\"colors\"])\n",
    "ax.set_xticklabels(ax.get_xticklabels(), rotation=90, fontsize=20)\n",
    "ax.set_title(\"Top 20 Features\", fontsize=25)\n",
    "ax.set_ylabel(\"Coef\", fontsize=22)\n",
    "ax.set_xlabel(\"Feature Name\", fontsize=22)\n",
    "plt.show()"
   ]
  },
  {
   "cell_type": "code",
   "execution_count": null,
   "id": "b808b1cd-625b-45ba-92c4-a7d6aa4accaf",
   "metadata": {},
   "outputs": [],
   "source": []
  }
 ],
 "metadata": {
  "kernelspec": {
   "display_name": "Python 3",
   "language": "python",
   "name": "python3"
  },
  "language_info": {
   "codemirror_mode": {
    "name": "ipython",
    "version": 3
   },
   "file_extension": ".py",
   "mimetype": "text/x-python",
   "name": "python",
   "nbconvert_exporter": "python",
   "pygments_lexer": "ipython3",
   "version": "3.8.10"
  }
 },
 "nbformat": 4,
 "nbformat_minor": 5
}
