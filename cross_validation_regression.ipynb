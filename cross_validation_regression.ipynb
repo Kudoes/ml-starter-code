{
 "cells": [
  {
   "cell_type": "markdown",
   "id": "75dd006b-a2e4-4a34-8b81-c02eb7f4aa99",
   "metadata": {},
   "source": [
    "# Cross Validation for Regression Models\n",
    "\n",
    "When deciding between various different candidate models, we often use **cross-validation**, which is a way to get a good estimate of each model's performance prior to the final evaluation on the held-out test data. The general process is as follows:\n",
    "\n",
    "1. Split the data into K folds: K for training, K-1 for validation\n",
    "2. Train the model(s) on K-1 folds\n",
    "3. Evaluate the model on the Kth fold using whichever evaluation metrics necessary\n",
    "4. Compare and contrast model performance\n",
    "5. Test the model on the test data to get a final out-of-sample estimate of model performance."
   ]
  },
  {
   "cell_type": "code",
   "execution_count": 1,
   "id": "b5dcad0c-7cf4-429b-afa5-469c22696ca2",
   "metadata": {},
   "outputs": [],
   "source": [
    "import pandas as pd\n",
    "import numpy as np\n",
    "\n",
    "from sklearn.model_selection import train_test_split\n",
    "from matplotlib import pyplot as plt\n",
    "import seaborn as sns"
   ]
  },
  {
   "cell_type": "markdown",
   "id": "7b8a0bba-fd53-4ab5-bb08-a00a280dade7",
   "metadata": {
    "tags": []
   },
   "source": [
    "## Generate Dummy Dataset for Regression\n",
    "\n",
    "Below, we will generate a simple dummy dataset for regression, and split it into training and test data."
   ]
  },
  {
   "cell_type": "code",
   "execution_count": 2,
   "id": "c2118985-b723-4005-b823-e96490a32ac9",
   "metadata": {},
   "outputs": [
    {
     "data": {
      "text/html": [
       "<div>\n",
       "<style scoped>\n",
       "    .dataframe tbody tr th:only-of-type {\n",
       "        vertical-align: middle;\n",
       "    }\n",
       "\n",
       "    .dataframe tbody tr th {\n",
       "        vertical-align: top;\n",
       "    }\n",
       "\n",
       "    .dataframe thead th {\n",
       "        text-align: right;\n",
       "    }\n",
       "</style>\n",
       "<table border=\"1\" class=\"dataframe\">\n",
       "  <thead>\n",
       "    <tr style=\"text-align: right;\">\n",
       "      <th></th>\n",
       "      <th>x_0</th>\n",
       "      <th>x_1</th>\n",
       "      <th>x_2</th>\n",
       "      <th>x_3</th>\n",
       "      <th>x_4</th>\n",
       "      <th>x_5</th>\n",
       "      <th>x_6</th>\n",
       "      <th>x_7</th>\n",
       "      <th>x_8</th>\n",
       "      <th>x_9</th>\n",
       "      <th>x_10</th>\n",
       "      <th>x_11</th>\n",
       "      <th>x_12</th>\n",
       "      <th>x_13</th>\n",
       "      <th>x_14</th>\n",
       "      <th>y</th>\n",
       "    </tr>\n",
       "  </thead>\n",
       "  <tbody>\n",
       "    <tr>\n",
       "      <th>0</th>\n",
       "      <td>1.433708</td>\n",
       "      <td>-0.572543</td>\n",
       "      <td>-2.001231</td>\n",
       "      <td>-0.421051</td>\n",
       "      <td>0.361555</td>\n",
       "      <td>-0.752007</td>\n",
       "      <td>-0.250720</td>\n",
       "      <td>-0.187602</td>\n",
       "      <td>0.740077</td>\n",
       "      <td>1.403831</td>\n",
       "      <td>-1.066540</td>\n",
       "      <td>0.050043</td>\n",
       "      <td>0.930569</td>\n",
       "      <td>-0.625462</td>\n",
       "      <td>-0.919971</td>\n",
       "      <td>89.416163</td>\n",
       "    </tr>\n",
       "    <tr>\n",
       "      <th>1</th>\n",
       "      <td>0.539845</td>\n",
       "      <td>-2.287595</td>\n",
       "      <td>-0.995615</td>\n",
       "      <td>0.642086</td>\n",
       "      <td>0.037617</td>\n",
       "      <td>0.759813</td>\n",
       "      <td>-2.718099</td>\n",
       "      <td>0.796010</td>\n",
       "      <td>-0.671009</td>\n",
       "      <td>-0.180394</td>\n",
       "      <td>-0.852881</td>\n",
       "      <td>-0.223992</td>\n",
       "      <td>0.324445</td>\n",
       "      <td>0.331743</td>\n",
       "      <td>1.231836</td>\n",
       "      <td>54.225045</td>\n",
       "    </tr>\n",
       "    <tr>\n",
       "      <th>2</th>\n",
       "      <td>1.296940</td>\n",
       "      <td>1.933954</td>\n",
       "      <td>-0.729785</td>\n",
       "      <td>-0.961836</td>\n",
       "      <td>-1.304575</td>\n",
       "      <td>-0.741713</td>\n",
       "      <td>-1.077827</td>\n",
       "      <td>-1.311417</td>\n",
       "      <td>-0.382706</td>\n",
       "      <td>-2.353837</td>\n",
       "      <td>0.483458</td>\n",
       "      <td>2.083864</td>\n",
       "      <td>0.152018</td>\n",
       "      <td>-0.239103</td>\n",
       "      <td>0.742955</td>\n",
       "      <td>131.360174</td>\n",
       "    </tr>\n",
       "  </tbody>\n",
       "</table>\n",
       "</div>"
      ],
      "text/plain": [
       "        x_0       x_1       x_2       x_3       x_4       x_5       x_6  \\\n",
       "0  1.433708 -0.572543 -2.001231 -0.421051  0.361555 -0.752007 -0.250720   \n",
       "1  0.539845 -2.287595 -0.995615  0.642086  0.037617  0.759813 -2.718099   \n",
       "2  1.296940  1.933954 -0.729785 -0.961836 -1.304575 -0.741713 -1.077827   \n",
       "\n",
       "        x_7       x_8       x_9      x_10      x_11      x_12      x_13  \\\n",
       "0 -0.187602  0.740077  1.403831 -1.066540  0.050043  0.930569 -0.625462   \n",
       "1  0.796010 -0.671009 -0.180394 -0.852881 -0.223992  0.324445  0.331743   \n",
       "2 -1.311417 -0.382706 -2.353837  0.483458  2.083864  0.152018 -0.239103   \n",
       "\n",
       "       x_14           y  \n",
       "0 -0.919971   89.416163  \n",
       "1  1.231836   54.225045  \n",
       "2  0.742955  131.360174  "
      ]
     },
     "execution_count": 2,
     "metadata": {},
     "output_type": "execute_result"
    }
   ],
   "source": [
    "from sklearn.datasets import make_regression\n",
    "\n",
    "# Generate test dataset and format for easy viewing\n",
    "X, y = make_regression(n_samples = 1000, n_features = 15, n_informative = 10, noise = 50)\n",
    "dataset = pd.DataFrame(X).add_prefix('x_')\n",
    "dataset['y'] = y\n",
    "dataset.head(3)"
   ]
  },
  {
   "cell_type": "markdown",
   "id": "76358b75-34fd-4da5-9cf9-4a4bcf0b52d3",
   "metadata": {},
   "source": [
    "### Generate Training Data\n",
    "\n",
    "Below, we create a very simple pipeline and train the linear model on the sample training data. We will then generate the feature importances using the **training data** only.\n",
    "\n",
    "Note that in a real workflow, you will likely have to ensure that the dataset conforms to the Linear Regression model requirements. This involves generating dummy variables for categorical data, scaling the data, imputing, etc. Only some of those steps are included below."
   ]
  },
  {
   "cell_type": "code",
   "execution_count": 3,
   "id": "6f5bb950-e477-4c93-afc7-f69db183e661",
   "metadata": {},
   "outputs": [
    {
     "name": "stdout",
     "output_type": "stream",
     "text": [
      "Training Data Size:  (800, 15)\n",
      "Test Data Size:  (200, 15)\n"
     ]
    }
   ],
   "source": [
    "# Create training, test splits using 80-20\n",
    "X = dataset.drop(['y'], axis='columns')\n",
    "y = dataset['y']\n",
    "\n",
    "# Split the data\n",
    "X_train, X_test, y_train, y_test = train_test_split(\n",
    "    X, y, test_size=0.2, random_state=1\n",
    ")\n",
    "\n",
    "print('Training Data Size: ', X_train.shape)\n",
    "print('Test Data Size: ', X_test.shape)"
   ]
  },
  {
   "cell_type": "markdown",
   "id": "ceedeeba-ff7b-4aa4-a8f1-b03f26e694a2",
   "metadata": {},
   "source": [
    "# Model Development"
   ]
  },
  {
   "cell_type": "markdown",
   "id": "bd7b5cf6-d27f-46d9-b368-a4279548a3a0",
   "metadata": {},
   "source": [
    "To start off, we can train a few candidate models and understand how the basic non-tuned models perform on the test data. Some of the models we'll be evaluating are:\n",
    "\n",
    "1. Linear Regression\n",
    "2. LASSO\n",
    "4. Random Forest Regressor"
   ]
  },
  {
   "cell_type": "code",
   "execution_count": 4,
   "id": "c330f3b0-ea31-44ee-affd-cabfcd52462a",
   "metadata": {},
   "outputs": [],
   "source": [
    "# Import pipeline, CV and pre-processing functions\n",
    "from sklearn.model_selection import cross_validate\n",
    "from sklearn.pipeline import make_pipeline\n",
    "from sklearn.impute import SimpleImputer\n",
    "from sklearn.preprocessing import StandardScaler\n",
    "import time\n",
    "\n",
    "# Import relevant models\n",
    "from sklearn.linear_model import LinearRegression, Lasso\n",
    "from sklearn.ensemble import RandomForestRegressor\n",
    "\n",
    "# Import score metrics\n",
    "from sklearn.metrics import r2_score, mean_squared_error, mean_absolute_error"
   ]
  },
  {
   "cell_type": "markdown",
   "id": "6171c97d-775b-4620-a9b1-ded9533e6af4",
   "metadata": {},
   "source": [
    "## Create Pipelines for Each Model\n",
    "\n",
    "First, we will define specific pipelines for each model we want to train, as each model may have different pre-processing steps we want to apply. By utilizing pipelines, we can easily add/remove specific pre-processing steps without having to re-write larger chunks of code."
   ]
  },
  {
   "cell_type": "code",
   "execution_count": 5,
   "id": "1cc59162-7048-44af-a05a-26aa6bc3536e",
   "metadata": {},
   "outputs": [],
   "source": [
    "# Create a list of pipelines\n",
    "linearregression = make_pipeline(SimpleImputer(missing_values=np.nan, strategy='mean'),\n",
    "                                               StandardScaler(with_mean=False),\n",
    "                                               LinearRegression())\n",
    "lasso = make_pipeline(SimpleImputer(missing_values=np.nan, strategy='mean'),\n",
    "                                               StandardScaler(with_mean=False),\n",
    "                                               Lasso())\n",
    "randomforest = make_pipeline(SimpleImputer(missing_values=np.nan, strategy='mean'),\n",
    "                                                       RandomForestRegressor())\n",
    "\n",
    "# Structure the models dictionary to contain both the pipeline, as well as the results of CV\n",
    "models = {\n",
    "    \"Linear Regression\": {\"pipeline\": linearregression, \n",
    "                          \"results\": {\"cv\": \"\", \"test\": \"\"}},\n",
    "    \"Lasso\": {\"pipeline\": lasso,\n",
    "              \"results\": {\"cv\": \"\", \"test\": \"\"}},\n",
    "    \"Random Forest\": {\"pipeline\": randomforest,\n",
    "                      \"results\": {\"cv\": \"\", \"test\": \"\"}}\n",
    "}"
   ]
  },
  {
   "cell_type": "markdown",
   "id": "6e00a9d9-f031-4595-b63b-ceb0bced7885",
   "metadata": {},
   "source": [
    "## Train Models with Cross-Validation\n",
    "\n",
    "Below, we will use 10-fold cross-validate on each model to get an evaluation of their performance. Then, we will generate an out-of-sample test set RMSE to get a final estimate of model performance."
   ]
  },
  {
   "cell_type": "code",
   "execution_count": 6,
   "id": "869f8eee-8047-482a-9055-b21c8a1e64ba",
   "metadata": {},
   "outputs": [
    {
     "name": "stdout",
     "output_type": "stream",
     "text": [
      "Beginning Model Training\n",
      "************************************************************\n",
      "Linear Regression\n",
      "Completed in 1.49s (0.0109s per split)\n",
      "Cross Validation: MAE: 40.4471 | RMSE: 50.6647 | R2: 0.9248\n",
      "Test Data Score : MAE: 40.3197 | RMSE: 49.0498 | R2: 0.9378\n",
      "************************************************************\n",
      "Lasso\n",
      "Completed in 0.0699s (0.0067s per split)\n",
      "Cross Validation: MAE: 40.3593 | RMSE: 50.4692 | R2: 0.9254\n",
      "Test Data Score : MAE: 40.3405 | RMSE: 48.8601 | R2: 0.9383\n",
      "************************************************************\n",
      "Random Forest\n",
      "Completed in 2.8794s (0.5508s per split)\n",
      "Cross Validation: MAE: 73.1524 | RMSE: 93.2149 | R2: 0.7491\n",
      "Test Data Score : MAE: 80.8846 | RMSE: 100.9067 | R2: 0.7368\n",
      "************************************************************\n"
     ]
    }
   ],
   "source": [
    "print(\"Beginning Model Training\\n\" + \"*\" * 60)\n",
    "for name, data in models.items():\n",
    "    # Extract Pipeline\n",
    "    model = data['pipeline']\n",
    "    \n",
    "    print(f'{name}')\n",
    "    start = time.time()\n",
    "    \n",
    "    # Cross-validate the models\n",
    "    scores = cross_validate(model,\n",
    "                            X_train,\n",
    "                            y_train,\n",
    "                            cv=10, \n",
    "                            scoring=['r2', 'neg_root_mean_squared_error', 'neg_mean_absolute_error'],\n",
    "                            n_jobs = 2) # Use 2 CPUs, can adjust based on your machine\n",
    "    stop = time.time()\n",
    "    \n",
    "    # Now evaluate model performance on held-out test data\n",
    "    model.fit(X_train, y_train)\n",
    "    preds = model.predict(X_test)\n",
    "    \n",
    "    # Save results to dictionary (mean of each of the 10 splits for each metric)\n",
    "    models[name][\"results\"][\"cv\"] = { \"mean_\" + k: round(abs(scores[k].mean()), 4) if k in [\"test_neg_mean_absolute_error\", \"test_neg_root_mean_squared_error\"] else round(scores[k].mean(), 4) for k in scores }\n",
    "    models[name][\"results\"][\"test\"] = {\"mae\": round(abs(mean_absolute_error(y_test, preds)), 4),\n",
    "                                       \"rmse\": round(abs(mean_squared_error(y_test, preds, squared=False)), 4),\n",
    "                                       \"r2\": round(r2_score(y_test, preds), 4)\n",
    "                                      }\n",
    "    # Print relevant information\n",
    "    print(f'Completed in {round(stop - start, 4)}s ({models[name][\"results\"][\"cv\"][\"mean_fit_time\"]}s per split)')\n",
    "    print(f'Cross Validation: MAE: {models[name][\"results\"][\"cv\"][\"mean_test_neg_mean_absolute_error\"]} | RMSE: {models[name][\"results\"][\"cv\"][\"mean_test_neg_root_mean_squared_error\"]} | R2: {models[name][\"results\"][\"cv\"][\"mean_test_r2\"]}')\n",
    "    print(f'Test Data Score : MAE: {models[name][\"results\"][\"test\"][\"mae\"]} | RMSE: {models[name][\"results\"][\"test\"][\"rmse\"]} | R2: {models[name][\"results\"][\"test\"][\"r2\"]}')\n",
    "    print('*' * 60)"
   ]
  },
  {
   "cell_type": "markdown",
   "id": "c1758113-8f83-42fc-bf86-bfde41b41380",
   "metadata": {},
   "source": [
    "We can convert these results from dictionary into dataframes for easier viewing/manipulation."
   ]
  },
  {
   "cell_type": "code",
   "execution_count": 7,
   "id": "ed10796b-26a3-48fa-aff4-20a0267d617f",
   "metadata": {},
   "outputs": [
    {
     "data": {
      "text/html": [
       "<div>\n",
       "<style scoped>\n",
       "    .dataframe tbody tr th:only-of-type {\n",
       "        vertical-align: middle;\n",
       "    }\n",
       "\n",
       "    .dataframe tbody tr th {\n",
       "        vertical-align: top;\n",
       "    }\n",
       "\n",
       "    .dataframe thead th {\n",
       "        text-align: right;\n",
       "    }\n",
       "</style>\n",
       "<table border=\"1\" class=\"dataframe\">\n",
       "  <thead>\n",
       "    <tr style=\"text-align: right;\">\n",
       "      <th></th>\n",
       "      <th>mean_fit_time</th>\n",
       "      <th>mean_score_time</th>\n",
       "      <th>mean_test_r2</th>\n",
       "      <th>mean_test_neg_root_mean_squared_error</th>\n",
       "      <th>mean_test_neg_mean_absolute_error</th>\n",
       "    </tr>\n",
       "  </thead>\n",
       "  <tbody>\n",
       "    <tr>\n",
       "      <th>Linear Regression</th>\n",
       "      <td>0.0109</td>\n",
       "      <td>0.0038</td>\n",
       "      <td>0.9248</td>\n",
       "      <td>50.6647</td>\n",
       "      <td>40.4471</td>\n",
       "    </tr>\n",
       "    <tr>\n",
       "      <th>Lasso</th>\n",
       "      <td>0.0067</td>\n",
       "      <td>0.0037</td>\n",
       "      <td>0.9254</td>\n",
       "      <td>50.4692</td>\n",
       "      <td>40.3593</td>\n",
       "    </tr>\n",
       "    <tr>\n",
       "      <th>Random Forest</th>\n",
       "      <td>0.5508</td>\n",
       "      <td>0.0127</td>\n",
       "      <td>0.7491</td>\n",
       "      <td>93.2149</td>\n",
       "      <td>73.1524</td>\n",
       "    </tr>\n",
       "  </tbody>\n",
       "</table>\n",
       "</div>"
      ],
      "text/plain": [
       "                   mean_fit_time  mean_score_time  mean_test_r2  \\\n",
       "Linear Regression         0.0109           0.0038        0.9248   \n",
       "Lasso                     0.0067           0.0037        0.9254   \n",
       "Random Forest             0.5508           0.0127        0.7491   \n",
       "\n",
       "                   mean_test_neg_root_mean_squared_error  \\\n",
       "Linear Regression                                50.6647   \n",
       "Lasso                                            50.4692   \n",
       "Random Forest                                    93.2149   \n",
       "\n",
       "                   mean_test_neg_mean_absolute_error  \n",
       "Linear Regression                            40.4471  \n",
       "Lasso                                        40.3593  \n",
       "Random Forest                                73.1524  "
      ]
     },
     "execution_count": 7,
     "metadata": {},
     "output_type": "execute_result"
    }
   ],
   "source": [
    "df_cv_results = pd.DataFrame.from_dict({name: models[name][\"results\"][\"cv\"] for name in models}, orient='index')\n",
    "df_test_results = pd.DataFrame.from_dict({name: models[name][\"results\"][\"test\"] for name in models}, orient='index')\n",
    "df_cv_results"
   ]
  },
  {
   "cell_type": "markdown",
   "id": "481df143-c5ba-43c4-b5bb-e5c21946d5b1",
   "metadata": {},
   "source": [
    "## Visualize Results\n",
    "\n",
    "Now that we have have trained the models and evaluated performance on the test data, we can see that the overall best-performing model is actually the **LASSO** model, as it has the lowest test and CV RMSE out of all three models, as well as the highest R2. With hyperparameter tuning, we can expect the the performance of each model to improve with various magnitudes, but hyperparameter tuning is covered in another notebook.\n",
    "\n",
    "We can visualize the cross-validation performance of the different models (using MAE and RMSE) using the chunk below."
   ]
  },
  {
   "cell_type": "code",
   "execution_count": 8,
   "id": "e268ca9c-281c-4bff-aa91-3b52dc1b2c6a",
   "metadata": {},
   "outputs": [
    {
     "data": {
      "text/plain": [
       "<Figure size 1200x800 with 0 Axes>"
      ]
     },
     "metadata": {},
     "output_type": "display_data"
    },
    {
     "data": {
      "image/png": "[encoded data removed]",
      "text/plain": [
       "<Figure size 640x480 with 1 Axes>"
      ]
     },
     "metadata": {},
     "output_type": "display_data"
    }
   ],
   "source": [
    "plt.figure(figsize=(12, 8))\n",
    "ax = df_cv_results[['mean_test_neg_mean_absolute_error', 'mean_test_neg_root_mean_squared_error']].plot(kind=\"bar\")\n",
    "ax.set_title(\"CV RMSE & MAE Performance\")\n",
    "ax.set_xlabel(\"Model\")\n",
    "ax.set_ylabel(\"Score\")\n",
    "\n",
    "plt.show()"
   ]
  },
  {
   "cell_type": "code",
   "execution_count": null,
   "id": "bfe71b35-2591-48c8-805d-e2960691b224",
   "metadata": {},
   "outputs": [],
   "source": []
  },
  {
   "cell_type": "code",
   "execution_count": null,
   "id": "bdc74163-a1fb-4566-a748-d43b6c5ee850",
   "metadata": {},
   "outputs": [],
   "source": []
  }
 ],
 "metadata": {
  "kernelspec": {
   "display_name": "Python 3",
   "language": "python",
   "name": "python3"
  },
  "language_info": {
   "codemirror_mode": {
    "name": "ipython",
    "version": 3
   },
   "file_extension": ".py",
   "mimetype": "text/x-python",
   "name": "python",
   "nbconvert_exporter": "python",
   "pygments_lexer": "ipython3",
   "version": "3.8.10"
  }
 },
 "nbformat": 4,
 "nbformat_minor": 5
}
